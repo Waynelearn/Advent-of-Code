{
 "cells": [
  {
   "cell_type": "code",
   "execution_count": 26,
   "id": "e9e8644c-f604-4897-93fe-63ada067e7d8",
   "metadata": {},
   "outputs": [],
   "source": [
    "with open(\"input.txt\",\"r\") as f:\n",
    "    cmds=[line.strip(\"\\n\").split() for line in f.readlines()]\n",
    "#print(cmds)"
   ]
  },
  {
   "cell_type": "code",
   "execution_count": 10,
   "id": "7fafd601-5637-4620-8155-3c00c4676e36",
   "metadata": {},
   "outputs": [],
   "source": [
    "def hmove(x,y,direction):\n",
    "    d={\n",
    "        \"U\":(0,1),\n",
    "        \"D\":(0,-1),\n",
    "        \"L\":(-1,0),\n",
    "        \"R\":(1,0)\n",
    "    }\n",
    "    x+=d[direction][0]\n",
    "    y+=d[direction][1]\n",
    "    return x,y"
   ]
  },
  {
   "cell_type": "code",
   "execution_count": 11,
   "id": "53e15ace-7573-427c-a038-cffbc3f5763d",
   "metadata": {},
   "outputs": [],
   "source": [
    "def man_dist(x,y,x1,y1):\n",
    "    return abs(x1-x)+abs(y1-y)"
   ]
  },
  {
   "cell_type": "code",
   "execution_count": 12,
   "id": "d5d4127f-22c8-4889-a390-ed4374441f9f",
   "metadata": {},
   "outputs": [],
   "source": [
    "def check_proximity(hx,hy,tx,ty):\n",
    "    #check same pos\n",
    "    if hx==tx and hy==ty:\n",
    "        return True\n",
    "    #check up\n",
    "    elif hx==tx and hy+1==ty:\n",
    "        return True\n",
    "    #check down\n",
    "    elif hx==tx and hy-1==ty:\n",
    "        return True\n",
    "    #check left\n",
    "    elif hx-1==tx and hy==ty:\n",
    "        return True\n",
    "    #check right\n",
    "    elif hx+1==tx and hy==ty:\n",
    "        return True\n",
    "    #check up right\n",
    "    elif hx+1==tx and hy+1==ty:\n",
    "        return True\n",
    "    #check up left\n",
    "    elif hx-1==tx and hy+1==ty:\n",
    "        return True\n",
    "    #check down right\n",
    "    elif hx+1==tx and hy-1==ty:\n",
    "        return True\n",
    "    #check down left\n",
    "    elif hx-1==tx and hy-1==ty:\n",
    "        return True\n",
    "    else:\n",
    "        return False"
   ]
  },
  {
   "cell_type": "code",
   "execution_count": 13,
   "id": "6fa6db80-183c-4e49-a612-000ffbe6e4f4",
   "metadata": {},
   "outputs": [
    {
     "data": {
      "text/plain": [
       "True"
      ]
     },
     "execution_count": 13,
     "metadata": {},
     "output_type": "execute_result"
    }
   ],
   "source": [
    "check_proximity(0,0,1,-1)"
   ]
  },
  {
   "cell_type": "code",
   "execution_count": 48,
   "id": "c7630f8a-d213-4a7d-852f-069ad824d0b7",
   "metadata": {},
   "outputs": [],
   "source": [
    "def tmove(hx,hy,tx,ty):\n",
    "        d=[\n",
    "            (0,1),\n",
    "            (0,-1),\n",
    "            (-1,0),\n",
    "            (1,0),\n",
    "            (1,1),\n",
    "            (-1,1),\n",
    "            (1,-1),\n",
    "            (-1,-1),\n",
    "        ]\n",
    "        min_move_x=-9999999999\n",
    "        min_move_y=-9999999999\n",
    "        for move in d:\n",
    "            temp_tx=move[0]+tx\n",
    "            temp_ty=move[1]+ty\n",
    "            if man_dist(hx,hy,temp_tx,temp_ty)<man_dist(hx,hy,min_move_x,min_move_y):\n",
    "                min_move_x,min_move_y=temp_tx,temp_ty\n",
    "        return min_move_x,min_move_y\n",
    "            \n",
    "        "
   ]
  },
  {
   "cell_type": "code",
   "execution_count": 42,
   "id": "49a5ac81-fd2b-4bee-9297-8417bf2b0916",
   "metadata": {},
   "outputs": [],
   "source": [
    "import turtle\n",
    "t1 = turtle.Turtle()\n",
    "t2 = turtle.Turtle()\n",
    "\n",
    "# set initial positions and orientations for each turtle'\n",
    "t1.setposition(0, 0)\n",
    "t1.setheading(90)\n",
    "t2.setposition(0, 0)\n",
    "t2.setheading(90)\n",
    "t1.color(\"red\")\n",
    "t2.color(\"green\")\n",
    "t1.speed(1)\n",
    "t2.speed(1)"
   ]
  },
  {
   "cell_type": "code",
   "execution_count": 50,
   "id": "ce4268e3-1dfd-4d50-97db-71f8da661bf0",
   "metadata": {},
   "outputs": [
    {
     "name": "stdout",
     "output_type": "stream",
     "text": [
      "6745\n",
      "6745\n"
     ]
    }
   ],
   "source": [
    "#the idea is to use a dict to keep track of visited places\n",
    "visited={(0,0):1}\n",
    "visited_count=1\n",
    "hx,hy,tx,ty=0,0,0,0\n",
    "s=50\n",
    "for cmd in cmds:\n",
    "    direction,step=cmd\n",
    "    step=int(step)\n",
    "    for i in range(step):\n",
    "        hx,hy=hmove(hx,hy,direction)\n",
    "        #t1.goto(hx*s,hy*s)\n",
    "        #check proximity to h\n",
    "        #print(f\"[H Move]:{hx,hy}\")\n",
    "        if not check_proximity(hx,hy,tx,ty):\n",
    "            #if not close\n",
    "            #determine how to move, choose the move that lowers the man_dist the most\n",
    "            tx,ty=tmove(hx,hy,tx,ty)\n",
    "            #t2.goto(tx*s,ty*s)\n",
    "            #print(f\"[T Move]:{tx,ty}\")\n",
    "            #update the visit_count\n",
    "\n",
    "            \n",
    "        else:\n",
    "            pass\n",
    "        if visited.get((tx,ty)) is None:\n",
    "            visited[(tx,ty)]=1\n",
    "            visited_count+=1\n",
    "        else:\n",
    "            visited[(tx,ty)]+=1\n",
    "            #if close\n",
    "                #do nothing\n",
    "print(len(visited))\n",
    "print(visited_count)"
   ]
  },
  {
   "cell_type": "code",
   "execution_count": 52,
   "id": "458f7b86-93ee-4e8a-aa0a-3c11fd9d8b65",
   "metadata": {},
   "outputs": [
    {
     "name": "stdout",
     "output_type": "stream",
     "text": [
      "2793\n",
      "2793\n"
     ]
    }
   ],
   "source": [
    "#the idea is to use a dict to keep track of visited places\n",
    "visited={(0,0):1}\n",
    "visited_count=1\n",
    "hx,hy=0,0\n",
    "x1,y1=0,0\n",
    "x2,y2=0,0\n",
    "x3,y3=0,0\n",
    "x4,y4=0,0\n",
    "x5,y5=0,0\n",
    "x6,y6=0,0\n",
    "x7,y7=0,0\n",
    "x8,y8=0,0\n",
    "x9,y9=0,0\n",
    "s=50\n",
    "for cmd in cmds:\n",
    "    direction,step=cmd\n",
    "    step=int(step)\n",
    "    for i in range(step):\n",
    "        hx,hy=hmove(hx,hy,direction)\n",
    "        #t1.goto(hx*s,hy*s)\n",
    "        #check proximity to h\n",
    "        #print(f\"[H Move]:{hx,hy}\")\n",
    "        if not check_proximity(hx,hy,x1,y1):\n",
    "            #if not close\n",
    "            #determine how to move, choose the move that lowers the man_dist the most\n",
    "            x1,y1=tmove(hx,hy,x1,y1)\n",
    "            #t2.goto(tx*s,ty*s)\n",
    "            #print(f\"[T Move]:{tx,ty}\")\n",
    "            #update the visit_count\n",
    "        if not check_proximity(x1,y1,x2,y2):\n",
    "            x2,y2=tmove(x1,y1,x2,y2)\n",
    "        if not check_proximity(x2,y2,x3,y3):\n",
    "            x3,y3=tmove(x2,y2,x3,y3)\n",
    "        if not check_proximity(x3,y3,x4,y4):\n",
    "            x4,y4=tmove(x3,y3,x4,y4)\n",
    "        if not check_proximity(x4,y4,x5,y5):\n",
    "            x5,y5=tmove(x4,y4,x5,y5)\n",
    "        if not check_proximity(x5,y5,x6,y6):\n",
    "            x6,y6=tmove(x5,y5,x6,y6)\n",
    "        if not check_proximity(x6,y6,x7,y7):\n",
    "            x7,y7=tmove(x6,y6,x7,y7)\n",
    "        if not check_proximity(x7,y7,x8,y8):\n",
    "            x8,y8=tmove(x7,y7,x8,y8)\n",
    "        if not check_proximity(x8,y8,x9,y9):\n",
    "            x9,y9=tmove(x8,y8,x9,y9)\n",
    "            \n",
    "        if visited.get((x9,y9)) is None:\n",
    "            visited[(x9,y9)]=1\n",
    "            visited_count+=1\n",
    "        else:\n",
    "            visited[(x9,y9)]+=1\n",
    "            #if close\n",
    "                #do nothing\n",
    "print(len(visited))\n",
    "print(visited_count)"
   ]
  },
  {
   "cell_type": "code",
   "execution_count": null,
   "id": "0da6fa55-6b5f-408e-a47d-dc1549914036",
   "metadata": {},
   "outputs": [],
   "source": []
  }
 ],
 "metadata": {
  "kernelspec": {
   "display_name": "Python 3 (ipykernel)",
   "language": "python",
   "name": "python3"
  },
  "language_info": {
   "codemirror_mode": {
    "name": "ipython",
    "version": 3
   },
   "file_extension": ".py",
   "mimetype": "text/x-python",
   "name": "python",
   "nbconvert_exporter": "python",
   "pygments_lexer": "ipython3",
   "version": "3.9.0"
  },
  "toc-showmarkdowntxt": false
 },
 "nbformat": 4,
 "nbformat_minor": 5
}
